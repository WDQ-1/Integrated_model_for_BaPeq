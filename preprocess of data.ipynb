{
 "cells": [
  {
   "cell_type": "code",
   "execution_count": 1,
   "id": "8277d4c2",
   "metadata": {},
   "outputs": [
    {
     "name": "stderr",
     "output_type": "stream",
     "text": [
      "D:\\software\\ANACONDA\\envs\\RFR\\lib\\site-packages\\numpy\\_distributor_init.py:30: UserWarning: loaded more than 1 DLL from .libs:\n",
      "D:\\software\\ANACONDA\\envs\\RFR\\lib\\site-packages\\numpy\\.libs\\libopenblas.FB5AE2TYXYH2IJRDKGDGQ3XBKLKTF43H.gfortran-win_amd64.dll\n",
      "D:\\software\\ANACONDA\\envs\\RFR\\lib\\site-packages\\numpy\\.libs\\libopenblas64__v0.3.21-gcc_10_3_0.dll\n",
      "  warnings.warn(\"loaded more than 1 DLL from .libs:\"\n"
     ]
    }
   ],
   "source": [
    "# Obtaining the min and max values for 6 input features\n",
    "import pandas as pd  \n",
    "import pickle  \n",
    "\n",
    "df = pd.read_excel('Original data-6 input features.xlsx')\n",
    "features = ['Temperature', 'Pressure', 'Relative humidity', 'Solar radiation','log GM (DPi)','log KOA']\n",
    "df_features = df[features]\n",
    "\n",
    "min_values = df_features.min()\n",
    "max_values = df_features.max()\n",
    "\n",
    "\n",
    "min_pkl_path = f\"min_6_features.pkl\" \n",
    "with open(min_pkl_path, 'wb') as f:  \n",
    "    pickle.dump(min_values, f)\n",
    "\n",
    " \n",
    "max_pkl_path = f\"max_6_features.pkl\"\n",
    "with open(max_pkl_path, 'wb') as f:  \n",
    "    pickle.dump(max_values, f)"
   ]
  },
  {
   "cell_type": "code",
   "execution_count": 2,
   "id": "799dcbfc",
   "metadata": {},
   "outputs": [],
   "source": [
    "# Scaling 6 input features using the MinMaxScaler\n",
    "import pandas as pd\n",
    "import pickle\n",
    "\n",
    "df = pd.read_excel('Original data-6 input features.xlsx')\n",
    "input_data = df\n",
    "\n",
    "min = pickle.load(open('min_6_features.pkl', 'rb'))\n",
    "max = pickle.load(open('max_6_features.pkl', 'rb'))\n",
    "def preprocess(input_data):\n",
    "    # minmaxscaler\n",
    "    preprocessed_data = input_data\n",
    "    features = ['Temperature', 'Pressure', 'Relative humidity', 'Solar radiation','log GM (DPi)','log KOA']\n",
    "    for col in features:\n",
    "        x = input_data[col]\n",
    "        normalized_data = (x - min[col]) / (max[col] - min[col])\n",
    "        preprocessed_data[col] = normalized_data\n",
    "    return preprocessed_data\n",
    "\n",
    " \n",
    "preprocessed_data = preprocess(input_data)\n",
    "\n",
    "\n",
    "preprocessed_data.to_excel('preprocessed_input_data_6_features.xlsx', index=False, engine='openpyxl')"
   ]
  },
  {
   "cell_type": "code",
   "execution_count": 3,
   "id": "8dd81101",
   "metadata": {},
   "outputs": [],
   "source": [
    "# Obtaining the min and max values for 3 input features\n",
    "import pandas as pd  \n",
    "import pickle  \n",
    "\n",
    "df = pd.read_excel('Original data-3 input features.xlsx')\n",
    "features = ['Temperature', 'log GM (DPi)','log KOA']\n",
    "df_features = df[features]\n",
    "\n",
    "min_values = df_features.min()\n",
    "max_values = df_features.max()\n",
    "  \n",
    "\n",
    " \n",
    "min_pkl_path = f\"min_3_features.pkl\" \n",
    "with open(min_pkl_path, 'wb') as f:  \n",
    "    pickle.dump(min_values, f)\n",
    "\n",
    "\n",
    "max_pkl_path = f\"max_3_features.pkl\"\n",
    "with open(max_pkl_path, 'wb') as f:  \n",
    "    pickle.dump(max_values, f)"
   ]
  },
  {
   "cell_type": "code",
   "execution_count": 4,
   "id": "b085756d",
   "metadata": {},
   "outputs": [],
   "source": [
    "# Scaling 3 input features using the MinMaxScaler\n",
    "import pandas as pd\n",
    "import pickle\n",
    "\n",
    "\n",
    "df = pd.read_excel('Original data-3 input features.xlsx')\n",
    "input_data = df\n",
    "\n",
    "min = pickle.load(open('min_3_features.pkl', 'rb'))\n",
    "max = pickle.load(open('max_3_features.pkl', 'rb'))\n",
    "def preprocess(input_data):\n",
    "    # minmaxscaler\n",
    "    preprocessed_data = input_data\n",
    "    features = ['Temperature', 'log GM (DPi)','log KOA']\n",
    "    for col in features:\n",
    "        x = input_data[col]\n",
    "        normalized_data = (x - min[col]) / (max[col] - min[col])\n",
    "        preprocessed_data[col] = normalized_data\n",
    "    return preprocessed_data\n",
    "\n",
    "\n",
    "preprocessed_data = preprocess(input_data)\n",
    "\n",
    " \n",
    "preprocessed_data.to_excel('preprocessed_input_data_3_features.xlsx', index=False, engine='openpyxl')"
   ]
  },
  {
   "cell_type": "code",
   "execution_count": null,
   "id": "b6a94469",
   "metadata": {},
   "outputs": [],
   "source": []
  }
 ],
 "metadata": {
  "kernelspec": {
   "display_name": "RFRinjupyter",
   "language": "python",
   "name": "env_name"
  },
  "language_info": {
   "codemirror_mode": {
    "name": "ipython",
    "version": 3
   },
   "file_extension": ".py",
   "mimetype": "text/x-python",
   "name": "python",
   "nbconvert_exporter": "python",
   "pygments_lexer": "ipython3",
   "version": "3.8.0"
  }
 },
 "nbformat": 4,
 "nbformat_minor": 5
}
